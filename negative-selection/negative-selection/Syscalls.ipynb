{
 "cells": [
  {
   "cell_type": "code",
   "execution_count": 96,
   "id": "cd69b607",
   "metadata": {},
   "outputs": [],
   "source": [
    "import numpy as np\n",
    "import math\n",
    "import matplotlib.pyplot as plt\n",
    "\n",
    "# Chunkify helper function\n",
    "chunkify_func = lambda data, chunk_size: [data[i:i+chunk_size] for i in range(0, (len(data)//chunk_size)*chunk_size, chunk_size)]\n",
    "# chunkify = lambda data, chunk_size: [data[i:i+chunk_size] for i in range(0, len(data)-chunk_size+1)]\n",
    "\n",
    "def chunkify(data, chunk_size):\n",
    "    if len(data) < chunk_size:\n",
    "        data = ''.join(np.repeat(data, math.ceil(chunk_size/len(data))))\n",
    "    return chunkify_func(data, chunk_size) \n",
    "\n",
    "# Preprocess train data\n",
    "def pre_process(inpath, outpath, chunk_size=20):\n",
    "    with open(inpath, 'r') as infile:\n",
    "        with open(outpath, 'w') as outfile:\n",
    "            data = infile.read().replace('\\n', '')\n",
    "            text = '\\n'.join(chunkify(data, chunk_size))\n",
    "            outfile.write(f'{text}\\n')\n",
    "            \n",
    "# Preprocess test data\n",
    "def pre_process_test(inpath, numberpath, outpath, chunk_size=20):\n",
    "    with open(inpath, 'r') as infile:\n",
    "        with open(numberpath, 'w') as numberfile:\n",
    "            with open(outpath, 'w') as outfile:\n",
    "                lines = infile.read().split('\\n')[:-1]\n",
    "                for line in lines:\n",
    "                    outlist = chunkify(line, chunk_size)\n",
    "                    [outfile.write(f'{line}\\n') for line in outlist]\n",
    "                    numberfile.write(f'{len(outlist)}\\n')"
   ]
  },
  {
   "cell_type": "code",
   "execution_count": 43,
   "id": "cdf3e250",
   "metadata": {},
   "outputs": [],
   "source": [
    "# Train data\n",
    "pre_process('syscalls/snd-cert/snd-cert.train', 'syscalls-out/data/snd-cert-proc.train')\n",
    "pre_process('syscalls/snd-unm/snd-unm.train', 'syscalls-out/data/snd-unm-proc.train')"
   ]
  },
  {
   "cell_type": "code",
   "execution_count": 60,
   "id": "75592384",
   "metadata": {},
   "outputs": [],
   "source": [
    "# Test data\n",
    "pre_process_test('syscalls/snd-cert/snd-cert.1.test', 'syscalls-out/numbers/snd-cert.1.numbers', 'syscalls-out/data/snd-cert.1.test')\n",
    "pre_process_test('syscalls/snd-cert/snd-cert.2.test', 'syscalls-out/numbers/snd-cert.2.numbers', 'syscalls-out/data/snd-cert.2.test')\n",
    "pre_process_test('syscalls/snd-cert/snd-cert.3.test', 'syscalls-out/numbers/snd-cert.3.numbers', 'syscalls-out/data/snd-cert.3.test')\n",
    "pre_process_test('syscalls/snd-unm/snd-unm.1.test', 'syscalls-out/numbers/snd-unm.1.numbers', 'syscalls-out/data/snd-unm.1.test')\n",
    "pre_process_test('syscalls/snd-unm/snd-unm.2.test', 'syscalls-out/numbers/snd-unm.2.numbers', 'syscalls-out/data/snd-unm.2.test')\n",
    "pre_process_test('syscalls/snd-unm/snd-unm.3.test', 'syscalls-out/numbers/snd-unm.3.numbers', 'syscalls-out/data/snd-unm.3.test')"
   ]
  },
  {
   "cell_type": "code",
   "execution_count": 8,
   "id": "33985e9b",
   "metadata": {},
   "outputs": [],
   "source": [
    "# Calculate Scores\n",
    "# java -jar negsel2.jar -alphabet file://syscalls/snd-cert/snd-cert.alpha -self syscalls-out/data/snd-cert-proc.train -n 20 -r 4 -c -l < syscalls-out/data/snd-cert.1.test > syscalls-out/scores/snd-cert.1.scores\n",
    "# java -jar negsel2.jar -alphabet file://syscalls/snd-unm/snd-unm.alpha -self syscalls-out/data/snd-unm-proc.train -n 20 -r 4 -c -l < syscalls-out/data/snd-unm.1.test > syscalls-out/scores/snd-unm.1.scores"
   ]
  },
  {
   "cell_type": "code",
   "execution_count": 132,
   "id": "cc19fde3",
   "metadata": {},
   "outputs": [],
   "source": [
    "# Calculate avg scores\n",
    "def calculate_avg_scores(scorepath, numberpath, labelpath, outpath):\n",
    "    with open(scorepath, 'r') as scorefile:\n",
    "        with open(numberpath, 'r') as numberfile:\n",
    "            with open(labelpath, 'r') as labelfile:\n",
    "                with open(outpath, 'w') as outfile:\n",
    "                    scores = scorefile.read().split('\\n')[:-1]\n",
    "                    numbers = numberfile.read().split('\\n')[:-1]\n",
    "                    labels = labelfile.read().split('\\n')[:-1]\n",
    "                    numbers_sum = 0\n",
    "                    avg_scores = []\n",
    "                    for n_i in range(len(numbers)):\n",
    "                        relevant_scores = scores[numbers_sum:numbers_sum + int(numbers[n_i])]\n",
    "                        num_scores = 0\n",
    "                        scores_sum = 0\n",
    "                        for score in relevant_scores:\n",
    "                            if not score.startswith('NaN'):\n",
    "                                scores_sum += float(score)\n",
    "                                num_scores += 1\n",
    "                        if not num_scores == 0:\n",
    "                            avg_score = scores_sum/num_scores\n",
    "                        else:\n",
    "                            avg_score = 500.0\n",
    "                        # outfile.write(f'{avg_score}\\n')\n",
    "                        avg_scores.append(avg_score)\n",
    "                        numbers_sum += int(numbers[n_i])\n",
    "                    # Scores sorting + AUC calculation\n",
    "                    scores_sorted = sorted(zip(avg_scores, labels))\n",
    "                    sensitivity, specificity = [], []\n",
    "                    for cutoff in range(len(labels)):\n",
    "                        TP, TN, FP, FN = 0, 0, 0, 0\n",
    "                        # Before cutoff\n",
    "                        for s, c in scores_sorted[cutoff:]:\n",
    "                            if c == '1':\n",
    "                                TP += 1\n",
    "                            else:\n",
    "                                FP += 1\n",
    "                        # After cutoff\n",
    "                        for s, c in scores_sorted[:cutoff]:\n",
    "                            if c == '1':\n",
    "                                FN += 1\n",
    "                            else:\n",
    "                                TN += 1\n",
    "                        sensitivity.append(TP/(TP + FN))\n",
    "                        specificity.append(TN/(TN + FP))\n",
    "                    return sensitivity, specificity"
   ]
  },
  {
   "cell_type": "code",
   "execution_count": 133,
   "id": "752b46ef",
   "metadata": {},
   "outputs": [],
   "source": [
    "sens, spec = calculate_avg_scores('syscalls-out/scores/snd-cert.1.scores', 'syscalls-out/numbers/snd-cert.1.numbers', 'syscalls/snd-cert/snd-cert.1.labels', 'syscalls-out/auc/snd-cert.1.test')"
   ]
  },
  {
   "cell_type": "code",
   "execution_count": 134,
   "id": "eb4eac71",
   "metadata": {},
   "outputs": [],
   "source": [
    "sens2, spec2 = calculate_avg_scores('syscalls-out/scores/snd-unm.1.scores', 'syscalls-out/numbers/snd-unm.1.numbers', 'syscalls/snd-unm/snd-unm.1.labels', 'syscalls-out/auc/snd-unm.1.test')"
   ]
  },
  {
   "cell_type": "code",
   "execution_count": 139,
   "id": "fdce92ca",
   "metadata": {},
   "outputs": [
    {
     "name": "stdout",
     "output_type": "stream",
     "text": [
      "Specificity = [0.0, 0.02, 0.04, 0.06, 0.08, 0.1, 0.12, 0.14, 0.16, 0.18, 0.2, 0.22, 0.24, 0.26, 0.28, 0.3, 0.32, 0.34, 0.36, 0.38, 0.4, 0.42, 0.44, 0.46, 0.48, 0.5, 0.52, 0.54, 0.56, 0.58, 0.6, 0.62, 0.64, 0.66, 0.68, 0.7, 0.72, 0.74, 0.76, 0.78, 0.8, 0.82, 0.84, 0.86, 0.86, 0.86, 0.86, 0.86, 0.86, 0.86, 0.86, 0.86, 0.86, 0.86, 0.86, 0.86, 0.88, 0.88, 0.88, 0.88, 0.88, 0.88, 0.88, 0.88, 0.88, 0.88, 0.88, 0.88, 0.88, 0.88, 0.88, 0.88, 0.88, 0.88, 0.88, 0.88, 0.88, 0.88, 0.9, 0.9, 0.9, 0.9, 0.9, 0.9, 0.9, 0.9, 0.9, 0.9, 0.9, 0.9, 0.9, 0.92, 0.94, 0.96, 0.96, 0.96, 0.96, 0.96, 0.96, 0.98]\n",
      "\n",
      "Sensitivity = [1.0, 1.0, 1.0, 1.0, 1.0, 1.0, 1.0, 1.0, 1.0, 1.0, 1.0, 1.0, 1.0, 1.0, 1.0, 1.0, 1.0, 1.0, 1.0, 1.0, 1.0, 1.0, 1.0, 1.0, 1.0, 1.0, 1.0, 1.0, 1.0, 1.0, 1.0, 1.0, 1.0, 1.0, 1.0, 1.0, 1.0, 1.0, 1.0, 1.0, 1.0, 1.0, 1.0, 1.0, 0.98, 0.96, 0.94, 0.92, 0.9, 0.88, 0.86, 0.84, 0.82, 0.8, 0.78, 0.76, 0.76, 0.74, 0.72, 0.7, 0.68, 0.66, 0.64, 0.62, 0.6, 0.58, 0.56, 0.54, 0.52, 0.5, 0.48, 0.46, 0.44, 0.42, 0.4, 0.38, 0.36, 0.34, 0.34, 0.32, 0.3, 0.28, 0.26, 0.24, 0.22, 0.2, 0.18, 0.16, 0.14, 0.12, 0.1, 0.1, 0.1, 0.1, 0.08, 0.06, 0.04, 0.02, 0.0, 0.0]\n",
      "AUC = 0.888\n"
     ]
    },
    {
     "data": {
      "text/plain": [
       "[<matplotlib.lines.Line2D at 0x1902716b010>]"
      ]
     },
     "execution_count": 139,
     "metadata": {},
     "output_type": "execute_result"
    },
    {
     "data": {
      "image/png": "[encoded data removed]",
      "text/plain": [
       "<Figure size 432x288 with 1 Axes>"
      ]
     },
     "metadata": {
      "needs_background": "light"
     },
     "output_type": "display_data"
    }
   ],
   "source": [
    "# SND CERT 1\n",
    "print(f'Specificity = {spec}\\n')\n",
    "print(f'Sensitivity = {sens}')\n",
    "auc = abs(np.trapz(sens, x=spec))\n",
    "print(f'AUC = {auc}')\n",
    "plt.step(spec, sens)"
   ]
  },
  {
   "cell_type": "code",
   "execution_count": 141,
   "id": "72d75476",
   "metadata": {},
   "outputs": [
    {
     "name": "stdout",
     "output_type": "stream",
     "text": [
      "Specificity = [0.0, 0.02, 0.04, 0.06, 0.08, 0.1, 0.12, 0.14, 0.16, 0.18, 0.2, 0.22, 0.24, 0.26, 0.28, 0.3, 0.32, 0.34, 0.36, 0.38, 0.4, 0.42, 0.44, 0.46, 0.48, 0.5, 0.52, 0.54, 0.56, 0.58, 0.6, 0.62, 0.64, 0.66, 0.68, 0.7, 0.72, 0.74, 0.76, 0.78, 0.8, 0.82, 0.84, 0.86, 0.88, 0.88, 0.88, 0.88, 0.88, 0.88, 0.88, 0.88, 0.88, 0.88, 0.88, 0.88, 0.88, 0.88, 0.88, 0.88, 0.88, 0.88, 0.88, 0.88, 0.88, 0.88, 0.9, 0.92, 0.92, 0.92, 0.92, 0.92, 0.92, 0.94, 0.94, 0.94, 0.94, 0.94, 0.96, 0.96, 0.96, 0.96, 0.96, 0.96, 0.96, 0.96, 0.96, 0.96, 0.96, 0.96, 0.96, 0.96, 0.96, 0.96, 0.96, 0.96, 0.96, 0.96, 0.96, 0.98]\n",
      "\n",
      "Sensitivity = [1.0, 1.0, 1.0, 1.0, 1.0, 1.0, 1.0, 1.0, 1.0, 1.0, 1.0, 1.0, 1.0, 1.0, 1.0, 1.0, 1.0, 1.0, 1.0, 1.0, 1.0, 1.0, 1.0, 1.0, 1.0, 1.0, 1.0, 1.0, 1.0, 1.0, 1.0, 1.0, 1.0, 1.0, 1.0, 1.0, 1.0, 1.0, 1.0, 1.0, 1.0, 1.0, 1.0, 1.0, 1.0, 0.98, 0.96, 0.94, 0.92, 0.9, 0.88, 0.86, 0.84, 0.82, 0.8, 0.78, 0.76, 0.74, 0.72, 0.7, 0.68, 0.66, 0.64, 0.62, 0.6, 0.58, 0.58, 0.58, 0.56, 0.54, 0.52, 0.5, 0.48, 0.48, 0.46, 0.44, 0.42, 0.4, 0.4, 0.38, 0.36, 0.34, 0.32, 0.3, 0.28, 0.26, 0.24, 0.22, 0.2, 0.18, 0.16, 0.14, 0.12, 0.1, 0.08, 0.06, 0.04, 0.02, 0.0, 0.0]\n",
      "AUC = 0.9208\n"
     ]
    },
    {
     "data": {
      "text/plain": [
       "[<matplotlib.lines.Line2D at 0x190271d2320>]"
      ]
     },
     "execution_count": 141,
     "metadata": {},
     "output_type": "execute_result"
    },
    {
     "data": {
      "image/png": "[encoded data removed]",
      "text/plain": [
       "<Figure size 432x288 with 1 Axes>"
      ]
     },
     "metadata": {
      "needs_background": "light"
     },
     "output_type": "display_data"
    }
   ],
   "source": [
    "# SND UNM 1\n",
    "print(f'Specificity = {spec2}\\n')\n",
    "print(f'Sensitivity = {sens2}')\n",
    "auc = abs(np.trapz(sens2, x=spec2))\n",
    "print(f'AUC = {auc}')\n",
    "plt.step(spec2, sens2)"
   ]
  },
  {
   "cell_type": "code",
   "execution_count": null,
   "id": "3b58490b",
   "metadata": {},
   "outputs": [],
   "source": []
  }
 ],
 "metadata": {
  "kernelspec": {
   "display_name": "Python 3 (ipykernel)",
   "language": "python",
   "name": "python3"
  },
  "language_info": {
   "codemirror_mode": {
    "name": "ipython",
    "version": 3
   },
   "file_extension": ".py",
   "mimetype": "text/x-python",
   "name": "python",
   "nbconvert_exporter": "python",
   "pygments_lexer": "ipython3",
   "version": "3.10.0"
  },
  "varInspector": {
   "cols": {
    "lenName": 16,
    "lenType": 16,
    "lenVar": 40
   },
   "kernels_config": {
    "python": {
     "delete_cmd_postfix": "",
     "delete_cmd_prefix": "del ",
     "library": "var_list.py",
     "varRefreshCmd": "print(var_dic_list())"
    },
    "r": {
     "delete_cmd_postfix": ") ",
     "delete_cmd_prefix": "rm(",
     "library": "var_list.r",
     "varRefreshCmd": "cat(var_dic_list()) "
    }
   },
   "types_to_exclude": [
    "module",
    "function",
    "builtin_function_or_method",
    "instance",
    "_Feature"
   ],
   "window_display": false
  }
 },
 "nbformat": 4,
 "nbformat_minor": 5
}
