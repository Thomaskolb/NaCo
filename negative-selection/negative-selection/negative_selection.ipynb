{
 "cells": [
  {
   "cell_type": "markdown",
   "id": "194d6c54",
   "metadata": {},
   "source": [
    "# Negative Selection"
   ]
  },
  {
   "cell_type": "markdown",
   "id": "822a54bd",
   "metadata": {},
   "source": [
    "## 1. Languages"
   ]
  },
  {
   "cell_type": "markdown",
   "id": "28d9b136",
   "metadata": {},
   "source": [
    "### 1.1 Tagalog, r=1, r=4 and r=9"
   ]
  },
  {
   "cell_type": "code",
   "execution_count": 71,
   "id": "eccf5921",
   "metadata": {},
   "outputs": [],
   "source": [
    "# Imports..\n",
    "import os\n",
    "import math\n",
    "import numpy as np\n",
    "import matplotlib.pyplot as plt"
   ]
  },
  {
   "cell_type": "code",
   "execution_count": 91,
   "id": "44b18dda",
   "metadata": {},
   "outputs": [
    {
     "name": "stdout",
     "output_type": "stream",
     "text": [
      "'lan_out' Directory already exists.\n"
     ]
    }
   ],
   "source": [
    "# Make directory for outputs\n",
    "try:\n",
    "    os.mkdir('lan_out')\n",
    "except FileExistsError:\n",
    "    print(\"'lan_out' Directory already exists.\")"
   ]
  },
  {
   "cell_type": "code",
   "execution_count": 109,
   "id": "e799a4ad",
   "metadata": {},
   "outputs": [],
   "source": [
    "# Function to run negative selection package (with parameters)\n",
    "def negsel(train, test, out, n, r):\n",
    "    os.system(f'java -jar negsel2.jar -self {train} -n {n} -r {r} -c -l < {test} > {out}')\n",
    "def negsel_alpha(train, test, out, alpha, n, r):\n",
    "    os.system(f'java -jar negsel2.jar -alphabet {alpha} -self {train} -n {n} -r {r} -c -l < {test} > {out}')"
   ]
  },
  {
   "cell_type": "code",
   "execution_count": 27,
   "id": "63593a18",
   "metadata": {},
   "outputs": [],
   "source": [
    "# Function to combine *.test files (concatenate content)\n",
    "def combine(first, second, outpath):\n",
    "    with open(first, 'r') as first_f:\n",
    "        with open(second, 'r') as second_f:\n",
    "            with open(outpath, 'w') as out_f:\n",
    "                out_f.write(first_f.read() + second_f.read())"
   ]
  },
  {
   "cell_type": "code",
   "execution_count": 28,
   "id": "c3c023a2",
   "metadata": {},
   "outputs": [],
   "source": [
    "# Combine test sets\n",
    "combine('english.test', 'tagalog.test', 'lan_out/eng_tag.test')"
   ]
  },
  {
   "cell_type": "code",
   "execution_count": 39,
   "id": "6cbc5e82",
   "metadata": {},
   "outputs": [],
   "source": [
    "# Now we calculate the scores of our combined test sets using the negative selection package\n",
    "negsel('english.train', 'lan_out/eng_tag.test', 'lan_out/eng_tag_n10_r4.scores', n=10, r=4)\n",
    "negsel('english.train', 'lan_out/eng_tag.test', 'lan_out/eng_tag_n10_r1.scores', n=10, r=1)\n",
    "negsel('english.train', 'lan_out/eng_tag.test', 'lan_out/eng_tag_n10_r9.scores', n=10, r=9)"
   ]
  },
  {
   "cell_type": "code",
   "execution_count": 34,
   "id": "40952f7d",
   "metadata": {},
   "outputs": [],
   "source": [
    "# Function to calculate scores needed for AUC (sensitivity and 1-specificity)\n",
    "def get_auc_scores(ref, source, source_scores):\n",
    "    with open(ref, 'r') as ref_f:\n",
    "        with open(source, 'r') as combi_f:\n",
    "            with open(source_scores, 'r') as scores_f:\n",
    "                # Sort combi + scores\n",
    "                ref = ref_f.read().split('\\n')[1:]\n",
    "                combi, scores = combi_f.read().split('\\n')[1:], scores_f.read().split('\\n')[1:]\n",
    "                scores_sorted = sorted(zip(scores, combi))\n",
    "                # Calculate AUC scores + write them\n",
    "                n_cutoff_points = len(scores_sorted)\n",
    "                sens, one_min_spec = [], []\n",
    "                for cutoff in range(n_cutoff_points):\n",
    "                    TP, TN, FP, FN = 0, 0, 0, 0\n",
    "                    # Before cutoff\n",
    "                    for s, c in scores_sorted[:cutoff]:\n",
    "                        if c in ref:\n",
    "                            TP += 1\n",
    "                        else:\n",
    "                            FP += 1\n",
    "                    # After cutoff\n",
    "                    for s, c in scores_sorted[cutoff:]:\n",
    "                        if c in ref:\n",
    "                            FN += 1\n",
    "                        else:\n",
    "                            TN += 1\n",
    "                    sens.append(TP/(TP + FN))\n",
    "                    one_min_spec.append(1 - (TN/(TN + FP)))\n",
    "                return sens, one_min_spec"
   ]
  },
  {
   "cell_type": "code",
   "execution_count": 40,
   "id": "c92a3bb7",
   "metadata": {},
   "outputs": [],
   "source": [
    "# Calculate sensitivity and 1-specificity for all score files\n",
    "sens_n10_r4, one_min_spec_n10_r4 = get_auc_scores('english.test', 'lan_out/eng_tag.test', 'lan_out/eng_tag_n10_r4.scores')\n",
    "sens_n10_r1, one_min_spec_n10_r1 = get_auc_scores('english.test', 'lan_out/eng_tag.test', 'lan_out/eng_tag_n10_r1.scores')\n",
    "sens_n10_r9, one_min_spec_n10_r9 = get_auc_scores('english.test', 'lan_out/eng_tag.test', 'lan_out/eng_tag_n10_r9.scores')"
   ]
  },
  {
   "cell_type": "code",
   "execution_count": 51,
   "id": "51bdc5d4",
   "metadata": {},
   "outputs": [],
   "source": [
    "# Function to show ROC\n",
    "def show_roc(one_min_spec, sens, title):\n",
    "    plt.step(one_min_spec, sens)\n",
    "    plt.xlabel('1-specificity') \n",
    "    plt.ylabel('sensitivity')\n",
    "    plt.title(title)\n",
    "    plt.show()"
   ]
  },
  {
   "cell_type": "code",
   "execution_count": 55,
   "id": "0f07f236",
   "metadata": {},
   "outputs": [
    {
     "data": {
      "image/png": "[encoded data removed]",
      "text/plain": [
       "<Figure size 432x288 with 1 Axes>"
      ]
     },
     "metadata": {
      "needs_background": "light"
     },
     "output_type": "display_data"
    }
   ],
   "source": [
    "# r = 1\n",
    "show_roc(one_min_spec_n10_r1, sens_n10_r1, 'Tagalog: r = 1')"
   ]
  },
  {
   "cell_type": "code",
   "execution_count": 56,
   "id": "51ecf60c",
   "metadata": {},
   "outputs": [
    {
     "data": {
      "image/png": "[encoded data removed]",
      "text/plain": [
       "<Figure size 432x288 with 1 Axes>"
      ]
     },
     "metadata": {
      "needs_background": "light"
     },
     "output_type": "display_data"
    }
   ],
   "source": [
    "# r = 4\n",
    "show_roc(one_min_spec_n10_r4, sens_n10_r4, 'Tagalog: r = 4')"
   ]
  },
  {
   "cell_type": "code",
   "execution_count": 57,
   "id": "709e3620",
   "metadata": {},
   "outputs": [
    {
     "data": {
      "image/png": "[encoded data removed]",
      "text/plain": [
       "<Figure size 432x288 with 1 Axes>"
      ]
     },
     "metadata": {
      "needs_background": "light"
     },
     "output_type": "display_data"
    }
   ],
   "source": [
    "# r = 9\n",
    "show_roc(one_min_spec_n10_r9, sens_n10_r9, 'Tagalog: r = 9')"
   ]
  },
  {
   "cell_type": "code",
   "execution_count": 69,
   "id": "420faa9f",
   "metadata": {},
   "outputs": [
    {
     "name": "stdout",
     "output_type": "stream",
     "text": [
      "r = 1: 0.48418990340805546\n",
      "r = 4: 0.7982048478221251\n",
      "r = 9: 0.4451544559868781\n"
     ]
    }
   ],
   "source": [
    "# AUC values:\n",
    "r1 = np.trapz(sens_n10_r1, x=one_min_spec_n10_r1)\n",
    "r4 = np.trapz(sens_n10_r4, x=one_min_spec_n10_r4)\n",
    "r9 = np.trapz(sens_n10_r9, x=one_min_spec_n10_r9)\n",
    "print(f'r = 1: {r1}')\n",
    "print(f'r = 4: {r4}')\n",
    "print(f'r = 9: {r9}')"
   ]
  },
  {
   "cell_type": "markdown",
   "id": "3432a53e",
   "metadata": {},
   "source": [
    "### 1.2 Other 4 languages"
   ]
  },
  {
   "cell_type": "code",
   "execution_count": 64,
   "id": "d399980d",
   "metadata": {},
   "outputs": [],
   "source": [
    "# Run the same process again for xhosa, hiligaynon, middle-english and plautdietsch\n",
    "combine('english.test', 'lang/xhosa.txt', 'lan_out/eng_xho.test')\n",
    "combine('english.test', 'lang/hiligaynon.txt', 'lan_out/eng_hil.test')\n",
    "combine('english.test', 'lang/middle-english.txt', 'lan_out/eng_mid.test')\n",
    "combine('english.test', 'lang/plautdietsch.txt', 'lan_out/eng_pla.test')\n",
    "negsel('english.train', 'lan_out/eng_xho.test', 'lan_out/eng_xho_n10_r4.scores', n=10, r=4)\n",
    "negsel('english.train', 'lan_out/eng_hil.test', 'lan_out/eng_hil_n10_r4.scores', n=10, r=4)\n",
    "negsel('english.train', 'lan_out/eng_mid.test', 'lan_out/eng_mid_n10_r4.scores', n=10, r=4)\n",
    "negsel('english.train', 'lan_out/eng_pla.test', 'lan_out/eng_pla_n10_r4.scores', n=10, r=4)\n",
    "xho_sens_n10_r4, xho_one_min_spec_n10_r4 = get_auc_scores('english.test', 'lan_out/eng_xho.test', 'lan_out/eng_xho_n10_r4.scores')\n",
    "hil_sens_n10_r4, hil_one_min_spec_n10_r4 = get_auc_scores('english.test', 'lan_out/eng_hil.test', 'lan_out/eng_hil_n10_r4.scores')\n",
    "mid_sens_n10_r4, mid_one_min_spec_n10_r4 = get_auc_scores('english.test', 'lan_out/eng_mid.test', 'lan_out/eng_mid_n10_r4.scores')\n",
    "pla_sens_n10_r4, pla_one_min_spec_n10_r4 = get_auc_scores('english.test', 'lan_out/eng_pla.test', 'lan_out/eng_pla_n10_r4.scores')"
   ]
  },
  {
   "cell_type": "code",
   "execution_count": 65,
   "id": "c61b88f1",
   "metadata": {},
   "outputs": [
    {
     "data": {
      "image/png": "[encoded data removed]",
      "text/plain": [
       "<Figure size 432x288 with 1 Axes>"
      ]
     },
     "metadata": {
      "needs_background": "light"
     },
     "output_type": "display_data"
    }
   ],
   "source": [
    "# Xhosa\n",
    "show_roc(xho_one_min_spec_n10_r4, xho_sens_n10_r4, 'Xhosa: r = 4')"
   ]
  },
  {
   "cell_type": "code",
   "execution_count": 66,
   "id": "9cc6f420",
   "metadata": {},
   "outputs": [
    {
     "data": {
      "image/png": "[encoded data removed]",
      "text/plain": [
       "<Figure size 432x288 with 1 Axes>"
      ]
     },
     "metadata": {
      "needs_background": "light"
     },
     "output_type": "display_data"
    }
   ],
   "source": [
    "# Hiligaynon\n",
    "show_roc(hil_one_min_spec_n10_r4, hil_sens_n10_r4, 'Hiligaynon: r = 4')"
   ]
  },
  {
   "cell_type": "code",
   "execution_count": 67,
   "id": "b54461b9",
   "metadata": {},
   "outputs": [
    {
     "data": {
      "image/png": "[encoded data removed]",
      "text/plain": [
       "<Figure size 432x288 with 1 Axes>"
      ]
     },
     "metadata": {
      "needs_background": "light"
     },
     "output_type": "display_data"
    }
   ],
   "source": [
    "# Middle-English\n",
    "show_roc(mid_one_min_spec_n10_r4, mid_sens_n10_r4, 'Middle-English: r = 4')"
   ]
  },
  {
   "cell_type": "code",
   "execution_count": 68,
   "id": "39b25842",
   "metadata": {},
   "outputs": [
    {
     "data": {
      "image/png": "[encoded data removed]",
      "text/plain": [
       "<Figure size 432x288 with 1 Axes>"
      ]
     },
     "metadata": {
      "needs_background": "light"
     },
     "output_type": "display_data"
    }
   ],
   "source": [
    "# Plautdietsch\n",
    "show_roc(pla_one_min_spec_n10_r4, pla_sens_n10_r4, 'Plautdietsch: r = 4')"
   ]
  },
  {
   "cell_type": "code",
   "execution_count": 70,
   "id": "19a2a501",
   "metadata": {},
   "outputs": [
    {
     "name": "stdout",
     "output_type": "stream",
     "text": [
      "Xhosa r = 4: 0.8381774193548388\n",
      "Hiligaynon r = 4: 0.8034516129032259\n",
      "Middle-English r = 4: 0.5399354838709678\n",
      "Plautdietsch r = 4: 0.7594354838709678\n"
     ]
    }
   ],
   "source": [
    "# AUC values\n",
    "xho_r4 = np.trapz(xho_sens_n10_r4, x=xho_one_min_spec_n10_r4)\n",
    "hil_r4 = np.trapz(hil_sens_n10_r4, x=hil_one_min_spec_n10_r4)\n",
    "mid_r4 = np.trapz(mid_sens_n10_r4, x=mid_one_min_spec_n10_r4)\n",
    "pla_r4 = np.trapz(pla_sens_n10_r4, x=pla_one_min_spec_n10_r4)\n",
    "print(f'Xhosa r = 4: {xho_r4}')\n",
    "print(f'Hiligaynon r = 4: {hil_r4}')\n",
    "print(f'Middle-English r = 4: {mid_r4}')\n",
    "print(f'Plautdietsch r = 4: {pla_r4}')"
   ]
  },
  {
   "cell_type": "markdown",
   "id": "bdee3d2d",
   "metadata": {},
   "source": [
    "## 2. Syscalls"
   ]
  },
  {
   "cell_type": "code",
   "execution_count": 95,
   "id": "6ed0b553",
   "metadata": {},
   "outputs": [
    {
     "name": "stdout",
     "output_type": "stream",
     "text": [
      "'sys_out' Directory already exists.\n",
      "'sys_out/data' Directory already exists.\n",
      "'sys_out/numbers' Directory already exists.\n",
      "'sys_out/scores' Directory already exists.\n"
     ]
    }
   ],
   "source": [
    "# Make directory for outputs\n",
    "try:\n",
    "    os.mkdir('sys_out')\n",
    "except FileExistsError:\n",
    "    print(\"'sys_out' Directory already exists.\")\n",
    "# Make some subdirectories\n",
    "try:\n",
    "    os.mkdir('sys_out/data')\n",
    "except FileExistsError:\n",
    "    print(\"'sys_out/data' Directory already exists.\")\n",
    "try:\n",
    "    os.mkdir('sys_out/numbers')\n",
    "except FileExistsError:\n",
    "    print(\"'sys_out/numbers' Directory already exists.\")\n",
    "try:\n",
    "    os.mkdir('sys_out/scores')\n",
    "except FileExistsError:\n",
    "    print(\"'sys_out/scores' Directory already exists.\")"
   ]
  },
  {
   "cell_type": "code",
   "execution_count": 96,
   "id": "f0fa2bfa",
   "metadata": {},
   "outputs": [],
   "source": [
    "# Chunkify helper function that divides string into chunks\n",
    "chunkify_func = lambda data, chunk_size: [data[i:i+chunk_size] for i in range(0, (len(data)//chunk_size)*chunk_size, chunk_size)]\n",
    "\n",
    "# Chunkify function divides data into chunks of chunk_size, and if the size of the string is smaller than chunk_size\n",
    "# we will add padding (padding_symbol)\n",
    "def chunkify(data, chunk_size, padding_symbol):\n",
    "    if len(data) < chunk_size:\n",
    "        data = ''.join(np.pad(list(data), (0,chunk_size-len(data)), constant_values=(padding_symbol, padding_symbol)))\n",
    "    return chunkify_func(data, chunk_size) "
   ]
  },
  {
   "cell_type": "code",
   "execution_count": 103,
   "id": "653e19f7",
   "metadata": {},
   "outputs": [],
   "source": [
    "# Preprocess train data\n",
    "def pre_process(inpath, outpath, chunk_size=10):\n",
    "    with open(inpath, 'r') as infile:\n",
    "        with open(outpath, 'w') as outfile:\n",
    "            data = infile.read().replace('\\n', '')\n",
    "            text = '\\n'.join(chunkify(data, chunk_size, 'A'))\n",
    "            outfile.write(f'{text}\\n')"
   ]
  },
  {
   "cell_type": "code",
   "execution_count": 104,
   "id": "05de85a8",
   "metadata": {},
   "outputs": [],
   "source": [
    "# Preprocess test data\n",
    "# We now also need a 'numbers' file which keeps track of the number of chunks for each unix string\n",
    "def pre_process_test(inpath, numberpath, outpath, chunk_size=10):\n",
    "    with open(inpath, 'r') as infile:\n",
    "        with open(numberpath, 'w') as numberfile:\n",
    "            with open(outpath, 'w') as outfile:\n",
    "                lines = infile.read().split('\\n')[:-1]\n",
    "                for line in lines:\n",
    "                    outlist = chunkify(line, chunk_size, 'A')\n",
    "                    [outfile.write(f'{line}\\n') for line in outlist]\n",
    "                    numberfile.write(f'{len(outlist)}\\n')"
   ]
  },
  {
   "cell_type": "code",
   "execution_count": 105,
   "id": "943b4f89",
   "metadata": {},
   "outputs": [],
   "source": [
    "# Generate pre-processed train data\n",
    "pre_process('syscalls/snd-cert/snd-cert.train', 'sys_out/data/snd-cert-proc.train')\n",
    "pre_process('syscalls/snd-unm/snd-unm.train', 'sys_out/data/snd-unm-proc.train')"
   ]
  },
  {
   "cell_type": "code",
   "execution_count": 107,
   "id": "91490001",
   "metadata": {},
   "outputs": [],
   "source": [
    "# Generate pre-processed test data + number files\n",
    "pre_process_test('syscalls/snd-cert/snd-cert.1.test', 'sys_out/numbers/snd-cert.1.numbers', 'sys_out/data/snd-cert.1.test')\n",
    "pre_process_test('syscalls/snd-cert/snd-cert.2.test', 'sys_out/numbers/snd-cert.2.numbers', 'sys_out/data/snd-cert.2.test')\n",
    "pre_process_test('syscalls/snd-cert/snd-cert.3.test', 'sys_out/numbers/snd-cert.3.numbers', 'sys_out/data/snd-cert.3.test')\n",
    "pre_process_test('syscalls/snd-unm/snd-unm.1.test', 'sys_out/numbers/snd-unm.1.numbers', 'sys_out/data/snd-unm.1.test')\n",
    "pre_process_test('syscalls/snd-unm/snd-unm.2.test', 'sys_out/numbers/snd-unm.2.numbers', 'sys_out/data/snd-unm.2.test')\n",
    "pre_process_test('syscalls/snd-unm/snd-unm.3.test', 'sys_out/numbers/snd-unm.3.numbers', 'sys_out/data/snd-unm.3.test')"
   ]
  },
  {
   "cell_type": "code",
   "execution_count": 115,
   "id": "fcd6c1f5",
   "metadata": {},
   "outputs": [],
   "source": [
    "# Now we calculate scores for CERT\n",
    "negsel_alpha('sys_out/data/snd-cert-proc.train', 'sys_out/data/snd-cert.1.test', 'sys_out/scores/snd-cert.1.scores', 'file://syscalls/snd-cert/snd-cert.alpha', n=10, r=4)\n",
    "negsel_alpha('sys_out/data/snd-cert-proc.train', 'sys_out/data/snd-cert.2.test', 'sys_out/scores/snd-cert.2.scores', 'file://syscalls/snd-cert/snd-cert.alpha', n=10, r=4)"
   ]
  },
  {
   "cell_type": "code",
   "execution_count": 117,
   "id": "3f5e7d09",
   "metadata": {},
   "outputs": [],
   "source": [
    "# Now we calculate scores for UNM\n",
    "negsel_alpha('sys_out/data/snd-unm-proc.train', 'sys_out/data/snd-unm.1.test', 'sys_out/scores/snd-unm.1.scores', 'file://syscalls/snd-unm/snd-unm.alpha', n=10, r=4)\n",
    "negsel_alpha('sys_out/data/snd-unm-proc.train', 'sys_out/data/snd-unm.2.test', 'sys_out/scores/snd-unm.2.scores', 'file://syscalls/snd-unm/snd-unm.alpha', n=10, r=4)"
   ]
  },
  {
   "cell_type": "code",
   "execution_count": 118,
   "id": "4a0abb33",
   "metadata": {},
   "outputs": [],
   "source": [
    "# Function to calculate scores needed for AUC (sensitivity and 1-specificity) by averaging over chunk scores\n",
    "def get_auc_avg_scores(scorepath, numberpath, labelpath):\n",
    "    with open(scorepath, 'r') as scorefile:\n",
    "        with open(numberpath, 'r') as numberfile:\n",
    "            with open(labelpath, 'r') as labelfile:\n",
    "                scores = scorefile.read().split('\\n')[:-1]\n",
    "                numbers = numberfile.read().split('\\n')[:-1]\n",
    "                labels = labelfile.read().split('\\n')[:-1]\n",
    "                numbers_sum = 0\n",
    "                avg_scores = []\n",
    "                for n_i in range(len(numbers)):\n",
    "                    relevant_scores = scores[numbers_sum:numbers_sum + int(numbers[n_i])]\n",
    "                    num_scores = 0\n",
    "                    scores_sum = 0\n",
    "                    for score in relevant_scores:\n",
    "                        if not score.startswith('NaN'):\n",
    "                            scores_sum += float(score)\n",
    "                            num_scores += 1\n",
    "                    if not num_scores == 0:\n",
    "                        avg_score = scores_sum/num_scores\n",
    "                    else:\n",
    "                        avg_score = 500.0\n",
    "                    avg_scores.append(avg_score)\n",
    "                    numbers_sum += int(numbers[n_i])\n",
    "                # Scores sorting + AUC calculation\n",
    "                scores_sorted = sorted(zip(avg_scores, labels))\n",
    "                sens, one_min_spec = [], []\n",
    "                for cutoff in range(len(labels)):\n",
    "                    TP, TN, FP, FN = 0, 0, 0, 0\n",
    "                    # Before cutoff\n",
    "                    for s, c in scores_sorted[cutoff:]:\n",
    "                        if c == '1':\n",
    "                            TP += 1\n",
    "                        else:\n",
    "                            FP += 1\n",
    "                    # After cutoff\n",
    "                    for s, c in scores_sorted[:cutoff]:\n",
    "                        if c == '1':\n",
    "                            FN += 1\n",
    "                        else:\n",
    "                            TN += 1\n",
    "                    sens.append(TP/(TP + FN))\n",
    "                    one_min_spec.append(1 - (TN/(TN + FP)))\n",
    "                return sens, one_min_spec"
   ]
  },
  {
   "cell_type": "code",
   "execution_count": 138,
   "id": "92a7b67e",
   "metadata": {},
   "outputs": [],
   "source": [
    "# Calculate sensitivity and 1-specificity for all score files\n",
    "cert1_sens, cert1_one_min_spec = get_auc_avg_scores('sys_out/scores/snd-cert.1.scores', 'sys_out/numbers/snd-cert.1.numbers', 'syscalls/snd-cert/snd-cert.1.labels')\n",
    "cert2_sens, cert2_one_min_spec = get_auc_avg_scores('sys_out/scores/snd-cert.2.scores', 'sys_out/numbers/snd-cert.2.numbers', 'syscalls/snd-cert/snd-cert.2.labels')\n",
    "unm1_sens, unm1_one_min_spec = get_auc_avg_scores('sys_out/scores/snd-unm.1.scores', 'sys_out/numbers/snd-unm.1.numbers', 'syscalls/snd-unm/snd-unm.1.labels')\n",
    "unm2_sens, unm2_one_min_spec = get_auc_avg_scores('sys_out/scores/snd-unm.2.scores', 'sys_out/numbers/snd-unm.2.numbers', 'syscalls/snd-unm/snd-unm.2.labels')"
   ]
  },
  {
   "cell_type": "code",
   "execution_count": 139,
   "id": "7fd29a53",
   "metadata": {},
   "outputs": [
    {
     "data": {
      "image/png": "[encoded data removed]",
      "text/plain": [
       "<Figure size 432x288 with 1 Axes>"
      ]
     },
     "metadata": {
      "needs_background": "light"
     },
     "output_type": "display_data"
    }
   ],
   "source": [
    "# CERT 1\n",
    "show_roc(cert1_one_min_spec, cert1_sens, 'CERT 1: r = 4')"
   ]
  },
  {
   "cell_type": "code",
   "execution_count": 140,
   "id": "ba3c37f1",
   "metadata": {},
   "outputs": [
    {
     "data": {
      "image/png": "[encoded data removed]",
      "text/plain": [
       "<Figure size 432x288 with 1 Axes>"
      ]
     },
     "metadata": {
      "needs_background": "light"
     },
     "output_type": "display_data"
    }
   ],
   "source": [
    "# CERT 2\n",
    "show_roc(cert2_one_min_spec, cert2_sens, 'CERT 2: r = 4')"
   ]
  },
  {
   "cell_type": "code",
   "execution_count": 141,
   "id": "9e10613a",
   "metadata": {},
   "outputs": [
    {
     "data": {
      "image/png": "[encoded data removed]",
      "text/plain": [
       "<Figure size 432x288 with 1 Axes>"
      ]
     },
     "metadata": {
      "needs_background": "light"
     },
     "output_type": "display_data"
    }
   ],
   "source": [
    "# UNM 1\n",
    "show_roc(unm1_one_min_spec, unm1_sens, 'UNM 1: r = 4')"
   ]
  },
  {
   "cell_type": "code",
   "execution_count": 142,
   "id": "bd5f3cf2",
   "metadata": {},
   "outputs": [
    {
     "data": {
      "image/png": "[encoded data removed]",
      "text/plain": [
       "<Figure size 432x288 with 1 Axes>"
      ]
     },
     "metadata": {
      "needs_background": "light"
     },
     "output_type": "display_data"
    }
   ],
   "source": [
    "# UNM 2\n",
    "show_roc(unm2_one_min_spec, unm2_sens, 'UNM 2: r = 4')"
   ]
  },
  {
   "cell_type": "code",
   "execution_count": 144,
   "id": "5292e106",
   "metadata": {},
   "outputs": [
    {
     "name": "stdout",
     "output_type": "stream",
     "text": [
      "CERT 1: 0.9019999999999999\n",
      "CERT 2: 0.9311200000000001\n",
      "UNM 1: 0.9168\n",
      "UNM 2: 0.94672\n"
     ]
    }
   ],
   "source": [
    "# AUC values\n",
    "cert1 = abs(np.trapz(cert1_sens, x=cert1_one_min_spec))\n",
    "cert2 = abs(np.trapz(cert2_sens, x=cert2_one_min_spec))\n",
    "unm1 = abs(np.trapz(unm1_sens, x=unm1_one_min_spec))\n",
    "unm2 = abs(np.trapz(unm2_sens, x=unm2_one_min_spec))\n",
    "print(f'CERT 1: {cert1}')\n",
    "print(f'CERT 2: {cert2}')\n",
    "print(f'UNM 1: {unm1}')\n",
    "print(f'UNM 2: {unm2}')"
   ]
  }
 ],
 "metadata": {
  "kernelspec": {
   "display_name": "Python 3 (ipykernel)",
   "language": "python",
   "name": "python3"
  },
  "language_info": {
   "codemirror_mode": {
    "name": "ipython",
    "version": 3
   },
   "file_extension": ".py",
   "mimetype": "text/x-python",
   "name": "python",
   "nbconvert_exporter": "python",
   "pygments_lexer": "ipython3",
   "version": "3.10.0"
  },
  "varInspector": {
   "cols": {
    "lenName": 16,
    "lenType": 16,
    "lenVar": 40
   },
   "kernels_config": {
    "python": {
     "delete_cmd_postfix": "",
     "delete_cmd_prefix": "del ",
     "library": "var_list.py",
     "varRefreshCmd": "print(var_dic_list())"
    },
    "r": {
     "delete_cmd_postfix": ") ",
     "delete_cmd_prefix": "rm(",
     "library": "var_list.r",
     "varRefreshCmd": "cat(var_dic_list()) "
    }
   },
   "types_to_exclude": [
    "module",
    "function",
    "builtin_function_or_method",
    "instance",
    "_Feature"
   ],
   "window_display": false
  }
 },
 "nbformat": 4,
 "nbformat_minor": 5
}
