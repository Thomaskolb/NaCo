{
 "cells": [
  {
   "cell_type": "code",
   "execution_count": 33,
   "id": "a062504b",
   "metadata": {},
   "outputs": [],
   "source": [
    "# Imports\n",
    "import numpy as np\n",
    "import inspect"
   ]
  },
  {
   "cell_type": "code",
   "execution_count": 49,
   "id": "e8b43346",
   "metadata": {},
   "outputs": [],
   "source": [
    "# Vertex data object: identified by name\n",
    "class Vertex:\n",
    "    def __init__(self, name):\n",
    "        self.name = name\n",
    "        \n",
    "# Edge data object: edge (frm -> to) with weight function 'tau'\n",
    "class Edge:\n",
    "    def __init__(self, frm, to, tau, dijkstra_weight=1):\n",
    "        self.frm = frm\n",
    "        self.to = to\n",
    "        self.tau = tau\n",
    "        self.dijkstra_weight = dijkstra_weight\n",
    "        \n",
    "    def generate_dijkstra_weight(k):\n",
    "        self.dijkstra_weight = np.random.normal(mu=self.tau(k), sigma=0.8*self.tau(k))\n",
    "        \n",
    "    def __repr__(self):\n",
    "        tau_str = str(inspect.getsourcelines(self.tau)[0])\n",
    "        tau_str = tau_str.strip(\"['\\\\n']\").split(\" = \")[1]\n",
    "        return f'\\n({self.frm.name} -> {self.to.name}, {tau_str})'\n",
    "\n",
    "# Graph data object\n",
    "class Graph:\n",
    "    def __init__(self):\n",
    "        self.vertices = []\n",
    "        self.edges = []\n",
    "        \n",
    "    def add_vertex(self, name):\n",
    "        self.vertices.append(Vertex(name))\n",
    "        \n",
    "    def add_vertices(self, num_vertices):\n",
    "        for i in range(num_vertices):\n",
    "            self.add_vertex(i+1)\n",
    "            \n",
    "    def get_vertex(self, name):\n",
    "        return next(v for v in self.vertices if v.name == name)\n",
    "        \n",
    "    def add_edge(self, frm_name, to_name, tau):\n",
    "        assert frm_name in [v.name for v in self.vertices], f'Vertex {frm} not in Graph'\n",
    "        assert to_name in [v.name for v in self.vertices], f'Vertex {to} not in Graph'\n",
    "        frm = self.get_vertex(frm_name)\n",
    "        to = self.get_vertex(to_name)\n",
    "        self.edges.append(Edge(frm, to, tau))\n",
    "        \n",
    "    def get_neighbors(self, vertex_name):\n",
    "        assert vertex_name in [v.name for v in self.vertices], f'Vertex {vertex_name} not in Graph'\n",
    "        neighbors = []\n",
    "        for edge in self.edges:\n",
    "            if edge.frm.name == vertex_name:\n",
    "                neighbors.add(edge.to)\n",
    "            if edge.to.name == vertex_name:\n",
    "                neighbors.add(edge.frm)\n",
    "        return neighbors\n",
    "    \n",
    "    def generate_dijkstra_weights(self, k):\n",
    "        for edge in self.edges:\n",
    "            edge.generate_dijkstra_weight(k)\n",
    "    \n",
    "    def __str__(self):\n",
    "        return str(self.edges)"
   ]
  },
  {
   "cell_type": "code",
   "execution_count": 50,
   "id": "667a0962",
   "metadata": {},
   "outputs": [],
   "source": [
    "# Test graph parameters\n",
    "tau_linear = lambda x: x\n",
    "tau_constant = lambda x: 2\n",
    "num_vertices = 7\n",
    "graph_test = Graph()\n",
    "\n",
    "# Add vertices\n",
    "graph_test.add_vertices(8)\n",
    "\n",
    "# Add edges\n",
    "graph_test.add_edge(1, 2, tau_linear)\n",
    "graph_test.add_edge(1, 3, tau_linear)\n",
    "graph_test.add_edge(1, 4, tau_linear)\n",
    "graph_test.add_edge(2, 6, tau_linear)\n",
    "graph_test.add_edge(3, 4, tau_linear)\n",
    "graph_test.add_edge(3, 8, tau_linear)\n",
    "graph_test.add_edge(4, 5, tau_linear)\n",
    "graph_test.add_edge(5, 8, tau_linear)\n",
    "graph_test.add_edge(6, 7, tau_linear)\n",
    "graph_test.add_edge(7, 8, tau_linear)"
   ]
  },
  {
   "cell_type": "code",
   "execution_count": 51,
   "id": "29c7ba6f",
   "metadata": {},
   "outputs": [
    {
     "name": "stdout",
     "output_type": "stream",
     "text": [
      "[\n",
      "(1 -> 2, lambda x: x), \n",
      "(1 -> 3, lambda x: x), \n",
      "(1 -> 4, lambda x: x), \n",
      "(2 -> 6, lambda x: x), \n",
      "(3 -> 4, lambda x: x), \n",
      "(3 -> 8, lambda x: x), \n",
      "(4 -> 5, lambda x: x), \n",
      "(5 -> 8, lambda x: x), \n",
      "(6 -> 7, lambda x: x), \n",
      "(7 -> 8, lambda x: x)]\n"
     ]
    }
   ],
   "source": [
    "# RandDijkstra\n",
    "def rand_dijkstra(graph, source, dest, k)\n",
    "    graph.generate_dijkstra_weights(k)\n",
    "    \n",
    "    unvisited = {v.name: None for v in graph.vertices} #using None as +inf\n",
    "    visited = {}\n",
    "    current = source.name\n",
    "    currentDistance = 0\n",
    "    unvisited[current] = currentDistance\n",
    "\n",
    "    while True:\n",
    "        for neighbour, distance in distances[current].items():\n",
    "            if neighbour not in unvisited: continue\n",
    "            newDistance = currentDistance + distance\n",
    "            if unvisited[neighbour] is None or unvisited[neighbour] > newDistance:\n",
    "                unvisited[neighbour] = newDistance\n",
    "        visited[current] = currentDistance\n",
    "        del unvisited[current]\n",
    "        if not unvisited: break\n",
    "        candidates = [node for node in unvisited.items() if node[1]]\n",
    "        current, currentDistance = sorted(candidates, key = lambda x: x[1])[0]\n",
    "    return visited\n",
    "\n",
    "print(visited)"
   ]
  },
  {
   "cell_type": "code",
   "execution_count": null,
   "id": "47b35490",
   "metadata": {},
   "outputs": [],
   "source": []
  }
 ],
 "metadata": {
  "kernelspec": {
   "display_name": "Python 3 (ipykernel)",
   "language": "python",
   "name": "python3"
  },
  "language_info": {
   "codemirror_mode": {
    "name": "ipython",
    "version": 3
   },
   "file_extension": ".py",
   "mimetype": "text/x-python",
   "name": "python",
   "nbconvert_exporter": "python",
   "pygments_lexer": "ipython3",
   "version": "3.10.0"
  },
  "varInspector": {
   "cols": {
    "lenName": 16,
    "lenType": 16,
    "lenVar": 40
   },
   "kernels_config": {
    "python": {
     "delete_cmd_postfix": "",
     "delete_cmd_prefix": "del ",
     "library": "var_list.py",
     "varRefreshCmd": "print(var_dic_list())"
    },
    "r": {
     "delete_cmd_postfix": ") ",
     "delete_cmd_prefix": "rm(",
     "library": "var_list.r",
     "varRefreshCmd": "cat(var_dic_list()) "
    }
   },
   "types_to_exclude": [
    "module",
    "function",
    "builtin_function_or_method",
    "instance",
    "_Feature"
   ],
   "window_display": false
  }
 },
 "nbformat": 4,
 "nbformat_minor": 5
}
